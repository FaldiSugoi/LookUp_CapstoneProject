! pip install -q kaggle

#Choose the kaggle.json file that you downloaded
from google.colab import files
files.upload()

#Make directory named kaggle and copy kaggle.json file there.
! mkdir ~/.kaggle
! cp kaggle.json ~/.kaggle/

#Change directory permission
!chmod 600 ~/.kaggle/kaggle.json

#list datasets
! kaggle datasets list

#Update expired API Download codes
!pip install --upgrade --force-reinstall --no-deps kaggle
!kaggle competitions download -c deepfake-detection-challenge

#Download Kaggle - Deepfake Dataset
!wget https://www.kaggle.com/c/16880/datadownload/dfdc_train_part_00.zip
!ls -la

#make train directory and unzip file to it 
! mkdir train
! unzip deepfake-detection-challenge.zip -d train
! ls -l

#copy folder to Google Cloud Storage
! cp train gs://kaggle-deepfake_dataset-b21-cap0099
