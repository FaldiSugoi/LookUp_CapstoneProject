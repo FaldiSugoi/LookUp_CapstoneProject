{
 "cells": [
  {
   "cell_type": "code",
   "execution_count": 36,
   "id": "34097ce9",
   "metadata": {},
   "outputs": [
    {
     "name": "stdout",
     "output_type": "stream",
     "text": [
      "{'data': 'https://firebasestorage.googleapis.com/v0/b/analog-subset-312906.appspot.com/o/Videos%2Fvideo_1622694178113?alt=media&token=aef991f8-e95e-4978-adbf-b532dd17081b', 'prediction': ['No face found']}\n"
     ]
    }
   ],
   "source": [
    "import requests\n",
    "\n",
    "# Call the post req to predict\n",
    "param={\n",
    "    \"id\": \"1\", \n",
    "    \"deepfake\":\"Not Deepfake\", \n",
    "    \"status\":\"Completed\",\n",
    "    \"title\":\"Test1\",\n",
    "    \"uploadDate\":\"1622694178113\",\n",
    "    \"videoUrl\":\"https://firebasestorage.googleapis.com/v0/b/analog-subset-312906.appspot.com/o/Videos%2Fvideo_1622694178113?alt=media&token=aef991f8-e95e-4978-adbf-b532dd17081b\"\n",
    "}\n",
    "res = requests.post('http://34.87.131.25:5000/predict', json=param)\n",
    "if res.ok:\n",
    "    print(res.json())"
   ]
  },
  {
   "cell_type": "code",
   "execution_count": null,
   "id": "6ead4cc7",
   "metadata": {},
   "outputs": [],
   "source": []
  }
 ],
 "metadata": {
  "environment": {
   "name": "common-cu110.m69",
   "type": "gcloud",
   "uri": "gcr.io/deeplearning-platform-release/base-cu110:m69"
  },
  "kernelspec": {
   "display_name": "Python 3",
   "language": "python",
   "name": "python3"
  },
  "language_info": {
   "codemirror_mode": {
    "name": "ipython",
    "version": 3
   },
   "file_extension": ".py",
   "mimetype": "text/x-python",
   "name": "python",
   "nbconvert_exporter": "python",
   "pygments_lexer": "ipython3",
   "version": "3.7.10"
  }
 },
 "nbformat": 4,
 "nbformat_minor": 5
}
