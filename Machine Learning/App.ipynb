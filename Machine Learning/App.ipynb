{
 "cells": [
  {
   "cell_type": "code",
   "execution_count": 1,
   "id": "1a5ebc2f",
   "metadata": {
    "collapsed": true,
    "jupyter": {
     "outputs_hidden": true,
     "source_hidden": true
    }
   },
   "outputs": [
    {
     "name": "stdout",
     "output_type": "stream",
     "text": [
      "Requirement already satisfied: flask in /opt/conda/lib/python3.7/site-packages (2.0.1)\n",
      "Requirement already satisfied: Jinja2>=3.0 in /opt/conda/lib/python3.7/site-packages (from flask) (3.0.1)\n",
      "Requirement already satisfied: itsdangerous>=2.0 in /opt/conda/lib/python3.7/site-packages (from flask) (2.0.1)\n",
      "Requirement already satisfied: Werkzeug>=2.0 in /opt/conda/lib/python3.7/site-packages (from flask) (2.0.1)\n",
      "Requirement already satisfied: click>=7.1.2 in /opt/conda/lib/python3.7/site-packages (from flask) (7.1.2)\n",
      "Requirement already satisfied: MarkupSafe>=2.0 in /opt/conda/lib/python3.7/site-packages (from Jinja2>=3.0->flask) (2.0.1)\n"
     ]
    }
   ],
   "source": [
    "#!sudo pip install flask\n",
    "#import sys\n",
    "#!{sys.executable} -m pip install flask"
   ]
  },
  {
   "cell_type": "code",
   "execution_count": 23,
   "id": "f0fb6e78",
   "metadata": {},
   "outputs": [],
   "source": [
    "import json\n",
    "import joblib\n",
    "from flask import Flask, request\n",
    "import numpy as np\n",
    "from tensorflow.keras.models import load_model\n",
    "\n",
    "# Load labels\n",
    "from io import BytesIO\n",
    "from tensorflow.python.lib.io import file_io"
   ]
  },
  {
   "cell_type": "code",
   "execution_count": 26,
   "id": "511f4b9f",
   "metadata": {},
   "outputs": [],
   "source": [
    "# Load model into object\n",
    "model = load_model('model-e5.h5')"
   ]
  },
  {
   "cell_type": "code",
   "execution_count": 34,
   "id": "01fdb00d",
   "metadata": {},
   "outputs": [],
   "source": [
    "# Load result into array\n",
    "file = open('X-200', 'rb')\n",
    "X = np.load(file, allow_pickle=True)\n",
    "file.close\n",
    "\n",
    "y = np.load('Y-200')"
   ]
  },
  {
   "cell_type": "code",
   "execution_count": 2,
   "id": "66be387a",
   "metadata": {},
   "outputs": [
    {
     "name": "stdout",
     "output_type": "stream",
     "text": [
      " * Serving Flask app '__main__' (lazy loading)\n",
      " * Environment: production\n",
      "\u001b[31m   WARNING: This is a development server. Do not use it in a production deployment.\u001b[0m\n",
      "\u001b[2m   Use a production WSGI server instead.\u001b[0m\n",
      " * Debug mode: off\n"
     ]
    },
    {
     "name": "stderr",
     "output_type": "stream",
     "text": [
      " * Running on all addresses.\n",
      "   WARNING: This is a development server. Do not use it in a production deployment.\n",
      " * Running on http://10.148.0.2:5000/ (Press CTRL+C to quit)\n"
     ]
    }
   ],
   "source": [
    "app = Flask(__name__)\n",
    "\n",
    "@app.route('/')\n",
    "def home():\n",
    "    return \"Hello, world!\"\n",
    "\n",
    "# Create /predict endpoint with POST method\n",
    "@app.route('/predict', methods=['POST'])\n",
    "def predict():\n",
    "    request_json = request.json\n",
    "    print(\"data: {}\").format(request_json)\n",
    "    print(\"type: {}\").format(type(request_json))\n",
    "    \n",
    "    # Predict from 'data' field in request body,\n",
    "    # and return prediction in response body\n",
    "    prediction = model.predict(request_json.get('data'))\n",
    "    prediction_string = [str(d) for d in prediction]\n",
    "    response_json = {\n",
    "        'data' : request_json.get('data'),\n",
    "        'prediction' : list(prediction_string)\n",
    "    }\n",
    "    \n",
    "    return json.dumps(response_json)\n",
    "\n",
    "if __name__ == '__main__':\n",
    "    app.run(host='0.0.0.0', port=5000)\n",
    "    #app.run()"
   ]
  },
  {
   "cell_type": "markdown",
   "id": "af9b5920",
   "metadata": {},
   "source": [
    "##### Prediction label based using model.fit"
   ]
  },
  {
   "cell_type": "code",
   "execution_count": null,
   "id": "00739ee2",
   "metadata": {},
   "outputs": [],
   "source": [
    "# 80:20 for split size\n",
    "size = int(len(X) * 0.8)\n",
    "\n",
    "x_train, x_test = X[:size], X[size:]\n",
    "y_train, y_test = y[:size], y[size:]"
   ]
  },
  {
   "cell_type": "code",
   "execution_count": null,
   "id": "8ed0e10b",
   "metadata": {},
   "outputs": [],
   "source": [
    "# Free unused memories\n",
    "import gc\n",
    "del X\n",
    "del y\n",
    "del x_train\n",
    "del y_train\n",
    "gc.collect()"
   ]
  },
  {
   "cell_type": "code",
   "execution_count": null,
   "id": "957f0a87",
   "metadata": {},
   "outputs": [],
   "source": [
    "# Evaluate the model on test data\n",
    "results = model_faces.evaluate(x_test, y_test, batch_size=128)\n",
    "\n",
    "# Generate predictions\n",
    "# For example, generate predictions for 3 samples\n",
    "predictions = model_faces.predict(x_test[:3])\n",
    "print(predictions.shape)"
   ]
  },
  {
   "cell_type": "markdown",
   "id": "286058a5",
   "metadata": {},
   "source": [
    "##### Prediction probabilities using face processing (X)"
   ]
  },
  {
   "cell_type": "code",
   "execution_count": null,
   "id": "25025716",
   "metadata": {},
   "outputs": [],
   "source": [
    "# Prediction probability of face using X\n",
    "filenames = '../resources/dataset/test_videos/*.mp4'\n",
    "\n",
    "# Prediction\n",
    "bias = -0.4\n",
    "weight = 0.68235746\n",
    "\n",
    "probabilities = []\n",
    "for filename, x_i in zip(filenames, X):\n",
    "    if x_i is not None:\n",
    "        prob = 1 / (1 + np.exp(-(bias + (weight * x_i).mean())))\n",
    "    else:\n",
    "        prob = 0.5\n",
    "    probabilities.append([os.path.basename(filename), prob])"
   ]
  }
 ],
 "metadata": {
  "environment": {
   "name": "common-cu110.m69",
   "type": "gcloud",
   "uri": "gcr.io/deeplearning-platform-release/base-cu110:m69"
  },
  "kernelspec": {
   "display_name": "Python 3",
   "language": "python",
   "name": "python3"
  },
  "language_info": {
   "codemirror_mode": {
    "name": "ipython",
    "version": 3
   },
   "file_extension": ".py",
   "mimetype": "text/x-python",
   "name": "python",
   "nbconvert_exporter": "python",
   "pygments_lexer": "ipython3",
   "version": "3.7.10"
  }
 },
 "nbformat": 4,
 "nbformat_minor": 5
}
