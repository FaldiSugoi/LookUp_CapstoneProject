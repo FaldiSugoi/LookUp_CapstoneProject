{
 "cells": [
  {
   "cell_type": "code",
   "execution_count": 1,
   "id": "06eb9832",
   "metadata": {},
   "outputs": [
    {
     "data": {
      "text/plain": [
       "8"
      ]
     },
     "execution_count": 1,
     "metadata": {},
     "output_type": "execute_result"
    }
   ],
   "source": [
    "import multiprocessing\n",
    "num_cpu = multiprocessing.cpu_count()\n",
    "num_cpu"
   ]
  },
  {
   "cell_type": "code",
   "execution_count": 2,
   "id": "aa2e68b9",
   "metadata": {},
   "outputs": [],
   "source": [
    "import numpy as np\n",
    "\n",
    "import tensorflow as tf\n",
    "from tensorflow import keras\n",
    "from tensorflow.keras import layers\n",
    "from tensorflow.keras.layers import ZeroPadding2D, Convolution2D, MaxPooling2D, Dropout, Flatten, Activation, Dense\n",
    "from tensorflow.keras.optimizers import SGD\n",
    "\n",
    "#from keras.models import load_model\n",
    "import joblib"
   ]
  },
  {
   "cell_type": "code",
   "execution_count": 3,
   "id": "44a74a17",
   "metadata": {},
   "outputs": [
    {
     "data": {
      "text/plain": [
       "'2.4.0'"
      ]
     },
     "execution_count": 3,
     "metadata": {},
     "output_type": "execute_result"
    }
   ],
   "source": [
    "tf.__version__"
   ]
  },
  {
   "cell_type": "code",
   "execution_count": 4,
   "id": "117a95a9",
   "metadata": {
    "collapsed": true,
    "jupyter": {
     "outputs_hidden": true
    }
   },
   "outputs": [
    {
     "name": "stdout",
     "output_type": "stream",
     "text": [
      "Model: \"sequential\"\n",
      "_________________________________________________________________\n",
      "Layer (type)                 Output Shape              Param #   \n",
      "=================================================================\n",
      "zero_padding2d (ZeroPadding2 (None, 84, 84, 64)        0         \n",
      "_________________________________________________________________\n",
      "conv2d (Conv2D)              (None, 21, 21, 64)        16777280  \n",
      "_________________________________________________________________\n",
      "zero_padding2d_1 (ZeroPaddin (None, 23, 23, 64)        0         \n",
      "_________________________________________________________________\n",
      "conv2d_1 (Conv2D)            (None, 21, 21, 64)        36928     \n",
      "_________________________________________________________________\n",
      "max_pooling2d (MaxPooling2D) (None, 10, 10, 64)        0         \n",
      "_________________________________________________________________\n",
      "zero_padding2d_2 (ZeroPaddin (None, 12, 12, 64)        0         \n",
      "_________________________________________________________________\n",
      "conv2d_2 (Conv2D)            (None, 10, 10, 128)       73856     \n",
      "_________________________________________________________________\n",
      "zero_padding2d_3 (ZeroPaddin (None, 12, 12, 128)       0         \n",
      "_________________________________________________________________\n",
      "conv2d_3 (Conv2D)            (None, 10, 10, 128)       147584    \n",
      "_________________________________________________________________\n",
      "max_pooling2d_1 (MaxPooling2 (None, 5, 5, 128)         0         \n",
      "_________________________________________________________________\n",
      "conv2d_4 (Conv2D)            (None, 1, 1, 1024)        3277824   \n",
      "_________________________________________________________________\n",
      "dropout (Dropout)            (None, 1, 1, 1024)        0         \n",
      "_________________________________________________________________\n",
      "conv2d_5 (Conv2D)            (None, 1, 1, 1024)        1049600   \n",
      "_________________________________________________________________\n",
      "dropout_1 (Dropout)          (None, 1, 1, 1024)        0         \n",
      "_________________________________________________________________\n",
      "conv2d_6 (Conv2D)            (None, 1, 1, 2622)        2687550   \n",
      "_________________________________________________________________\n",
      "flatten (Flatten)            (None, 2622)              0         \n",
      "_________________________________________________________________\n",
      "dense (Dense)                (None, 1)                 2623      \n",
      "=================================================================\n",
      "Total params: 24,053,245\n",
      "Trainable params: 24,053,245\n",
      "Non-trainable params: 0\n",
      "_________________________________________________________________\n"
     ]
    }
   ],
   "source": [
    "# model_faces for detected faces\n",
    "\n",
    "model_faces = keras.Sequential()\n",
    "model_faces.add(ZeroPadding2D((1,1),input_shape=(82,82,64)))\n",
    "model_faces.add(Convolution2D(64, (64, 64), activation='relu'))\n",
    "model_faces.add(ZeroPadding2D((1,1)))\n",
    "model_faces.add(Convolution2D(64, (3, 3), activation='relu'))\n",
    "model_faces.add(MaxPooling2D((2,2), strides=(2,2)))\n",
    "\n",
    "model_faces.add(ZeroPadding2D((1,1)))\n",
    "model_faces.add(Convolution2D(128, (3, 3), activation='relu'))\n",
    "model_faces.add(ZeroPadding2D((1,1)))\n",
    "model_faces.add(Convolution2D(128, (3, 3), activation='relu'))\n",
    "model_faces.add(MaxPooling2D((2,2), strides=(2,2)))\n",
    "\n",
    "model_faces.add(Convolution2D(1024, (5, 5), activation='relu'))\n",
    "model_faces.add(Dropout(0.5))\n",
    "model_faces.add(Convolution2D(1024, (1, 1), activation='relu'))\n",
    "model_faces.add(Dropout(0.5))\n",
    "model_faces.add(Convolution2D(2622, (1, 1)))\n",
    "model_faces.add(Flatten())\n",
    "model_faces.add(Dense(1, activation='sigmoid'))\n",
    "\n",
    "model_faces.summary()"
   ]
  },
  {
   "cell_type": "code",
   "execution_count": 5,
   "id": "6483eeda",
   "metadata": {},
   "outputs": [],
   "source": [
    "result = open('X-24', 'rb')\n",
    "X = np.load(result, allow_pickle=True)\n",
    "\n",
    "result2 = open('Y-24', 'rb')\n",
    "y = np.load(result2, allow_pickle=True)"
   ]
  },
  {
   "cell_type": "code",
   "execution_count": 6,
   "id": "6160c515",
   "metadata": {},
   "outputs": [
    {
     "name": "stdout",
     "output_type": "stream",
     "text": [
      "(5018, 82, 82, 64) float32\n",
      "(5018,) int64\n"
     ]
    }
   ],
   "source": [
    "print(X.shape, X.dtype)\n",
    "print(y.shape, y.dtype)"
   ]
  },
  {
   "cell_type": "code",
   "execution_count": 7,
   "id": "a06411d6",
   "metadata": {},
   "outputs": [],
   "source": [
    "# 80:20 for split size\n",
    "size = int(len(X) * 0.8)\n",
    "\n",
    "x_train, x_test = X[:size], X[size:]\n",
    "y_train, y_test = y[:size], y[size:]"
   ]
  },
  {
   "cell_type": "code",
   "execution_count": 8,
   "id": "45cdce8c",
   "metadata": {},
   "outputs": [
    {
     "data": {
      "text/plain": [
       "214"
      ]
     },
     "execution_count": 8,
     "metadata": {},
     "output_type": "execute_result"
    }
   ],
   "source": [
    "# To clear memory\n",
    "import gc\n",
    "#del model_frames\n",
    "del X\n",
    "del y\n",
    "gc.collect()"
   ]
  },
  {
   "cell_type": "code",
   "execution_count": 10,
   "id": "0a06acc1",
   "metadata": {},
   "outputs": [],
   "source": [
    "model_faces.compile(\n",
    "    optimizer=SGD(learning_rate=0.01, momentum=0.9),\n",
    "    loss=tf.keras.losses.BinaryCrossentropy(),\n",
    "    metrics=['accuracy']\n",
    ")"
   ]
  },
  {
   "cell_type": "code",
   "execution_count": 11,
   "id": "f3bdb553",
   "metadata": {},
   "outputs": [
    {
     "name": "stdout",
     "output_type": "stream",
     "text": [
      "Epoch 1/5\n",
      "32/32 [==============================] - 1461s 46s/step - loss: 0.6176 - accuracy: 0.6880\n",
      "Epoch 2/5\n",
      "32/32 [==============================] - 1479s 46s/step - loss: 0.5791 - accuracy: 0.7412\n",
      "Epoch 3/5\n",
      "32/32 [==============================] - 1476s 46s/step - loss: 0.5758 - accuracy: 0.7391\n",
      "Epoch 4/5\n",
      "32/32 [==============================] - 1474s 46s/step - loss: 0.5670 - accuracy: 0.7498\n",
      "Epoch 5/5\n",
      "32/32 [==============================] - 1474s 46s/step - loss: 0.5779 - accuracy: 0.7362\n"
     ]
    }
   ],
   "source": [
    "history = model_faces.fit(\n",
    "    x_train,\n",
    "    y_train,\n",
    "    batch_size=128,\n",
    "    epochs=5,\n",
    "    use_multiprocessing=True,\n",
    "    workers=num_cpu\n",
    ")"
   ]
  },
  {
   "cell_type": "code",
   "execution_count": 13,
   "id": "b795336c",
   "metadata": {},
   "outputs": [
    {
     "name": "stdout",
     "output_type": "stream",
     "text": [
      "INFO:tensorflow:Assets written to: saved_model/my_model/assets\n"
     ]
    }
   ],
   "source": [
    "# Save tf model in pb\n",
    "!mkdir -p saved_model\n",
    "model_faces.save('saved_model/my_model')"
   ]
  },
  {
   "cell_type": "code",
   "execution_count": null,
   "id": "d1c2778d",
   "metadata": {},
   "outputs": [],
   "source": [
    "# Save tf model\n",
    "model_faces.save('model.h5')"
   ]
  },
  {
   "cell_type": "code",
   "execution_count": null,
   "id": "56698c56",
   "metadata": {},
   "outputs": [],
   "source": [
    "model_faces.save('model.keras')"
   ]
  },
  {
   "cell_type": "code",
   "execution_count": null,
   "id": "28c337ce",
   "metadata": {},
   "outputs": [],
   "source": [
    "#serialize model to json\n",
    "model_json = model_faces.to_json()\n",
    "with open(\"model.json\", \"w\") as json_file:\n",
    "    json_file.write(model_json)\n",
    "    \n",
    "model_faces.save_weights(\"model-with-weights.h5\")"
   ]
  }
 ],
 "metadata": {
  "environment": {
   "name": "common-cu110.m69",
   "type": "gcloud",
   "uri": "gcr.io/deeplearning-platform-release/base-cu110:m69"
  },
  "kernelspec": {
   "display_name": "Python [conda env:root] *",
   "language": "python",
   "name": "conda-root-py"
  },
  "language_info": {
   "codemirror_mode": {
    "name": "ipython",
    "version": 3
   },
   "file_extension": ".py",
   "mimetype": "text/x-python",
   "name": "python",
   "nbconvert_exporter": "python",
   "pygments_lexer": "ipython3",
   "version": "3.7.10"
  }
 },
 "nbformat": 4,
 "nbformat_minor": 5
}
