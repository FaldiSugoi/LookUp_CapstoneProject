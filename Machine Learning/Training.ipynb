{
 "cells": [
  {
   "cell_type": "code",
   "execution_count": 12,
   "id": "29c4029b",
   "metadata": {},
   "outputs": [
    {
     "data": {
      "text/plain": [
       "8"
      ]
     },
     "execution_count": 12,
     "metadata": {},
     "output_type": "execute_result"
    }
   ],
   "source": [
    "import multiprocessing\n",
    "num_cpu = multiprocessing.cpu_count()\n",
    "num_cpu"
   ]
  },
  {
   "cell_type": "code",
   "execution_count": 13,
   "id": "b904f88c",
   "metadata": {},
   "outputs": [],
   "source": [
    "# For Dataset\n",
    "import os\n",
    "import glob\n",
    "import json\n",
    "import time\n",
    "import torch\n",
    "import cv2\n",
    "from PIL import Image\n",
    "import numpy as np\n",
    "import pandas as pd\n",
    "from tqdm.notebook import tqdm\n",
    "from facenet_pytorch import MTCNN, InceptionResnetV1\n",
    "\n",
    "# For Model\n",
    "import tensorflow as tf\n",
    "from tensorflow import keras\n",
    "from tensorflow.keras import layers\n",
    "from tensorflow.keras.layers import ZeroPadding2D, Convolution2D, MaxPooling2D, Dropout, Flatten, Activation, Dense\n",
    "from tensorflow.keras.optimizers import SGD\n",
    "\n",
    "# Resizing for tf shape\n",
    "import einops\n",
    "\n",
    "# Save result for later use\n",
    "from numpy import asarray\n",
    "from numpy import save\n",
    "\n",
    "#from keras.models import load_model\n"
   ]
  },
  {
   "cell_type": "code",
   "execution_count": 14,
   "id": "2e0967b8",
   "metadata": {},
   "outputs": [
    {
     "name": "stdout",
     "output_type": "stream",
     "text": [
      "Model: \"sequential_1\"\n",
      "_________________________________________________________________\n",
      "Layer (type)                 Output Shape              Param #   \n",
      "=================================================================\n",
      "zero_padding2d_4 (ZeroPaddin (None, 84, 84, 64)        0         \n",
      "_________________________________________________________________\n",
      "conv2d_7 (Conv2D)            (None, 21, 21, 64)        16777280  \n",
      "_________________________________________________________________\n",
      "zero_padding2d_5 (ZeroPaddin (None, 23, 23, 64)        0         \n",
      "_________________________________________________________________\n",
      "conv2d_8 (Conv2D)            (None, 21, 21, 64)        36928     \n",
      "_________________________________________________________________\n",
      "max_pooling2d_2 (MaxPooling2 (None, 10, 10, 64)        0         \n",
      "_________________________________________________________________\n",
      "zero_padding2d_6 (ZeroPaddin (None, 12, 12, 64)        0         \n",
      "_________________________________________________________________\n",
      "conv2d_9 (Conv2D)            (None, 10, 10, 128)       73856     \n",
      "_________________________________________________________________\n",
      "zero_padding2d_7 (ZeroPaddin (None, 12, 12, 128)       0         \n",
      "_________________________________________________________________\n",
      "conv2d_10 (Conv2D)           (None, 10, 10, 128)       147584    \n",
      "_________________________________________________________________\n",
      "max_pooling2d_3 (MaxPooling2 (None, 5, 5, 128)         0         \n",
      "_________________________________________________________________\n",
      "conv2d_11 (Conv2D)           (None, 1, 1, 1024)        3277824   \n",
      "_________________________________________________________________\n",
      "dropout_2 (Dropout)          (None, 1, 1, 1024)        0         \n",
      "_________________________________________________________________\n",
      "conv2d_12 (Conv2D)           (None, 1, 1, 1024)        1049600   \n",
      "_________________________________________________________________\n",
      "dropout_3 (Dropout)          (None, 1, 1, 1024)        0         \n",
      "_________________________________________________________________\n",
      "conv2d_13 (Conv2D)           (None, 1, 1, 2622)        2687550   \n",
      "_________________________________________________________________\n",
      "flatten_1 (Flatten)          (None, 2622)              0         \n",
      "_________________________________________________________________\n",
      "dense_1 (Dense)              (None, 1)                 2623      \n",
      "=================================================================\n",
      "Total params: 24,053,245\n",
      "Trainable params: 24,053,245\n",
      "Non-trainable params: 0\n",
      "_________________________________________________________________\n"
     ]
    }
   ],
   "source": [
    "# model_faces for detected faces\n",
    "\n",
    "model_faces = keras.Sequential()\n",
    "model_faces.add(ZeroPadding2D((1,1),input_shape=(82,82,64)))\n",
    "model_faces.add(Convolution2D(64, (64, 64), activation='relu'))\n",
    "model_faces.add(ZeroPadding2D((1,1)))\n",
    "model_faces.add(Convolution2D(64, (3, 3), activation='relu'))\n",
    "model_faces.add(MaxPooling2D((2,2), strides=(2,2)))\n",
    "\n",
    "model_faces.add(ZeroPadding2D((1,1)))\n",
    "model_faces.add(Convolution2D(128, (3, 3), activation='relu'))\n",
    "model_faces.add(ZeroPadding2D((1,1)))\n",
    "model_faces.add(Convolution2D(128, (3, 3), activation='relu'))\n",
    "model_faces.add(MaxPooling2D((2,2), strides=(2,2)))\n",
    "\n",
    "model_faces.add(Convolution2D(1024, (5, 5), activation='relu'))\n",
    "model_faces.add(Dropout(0.5))\n",
    "model_faces.add(Convolution2D(1024, (1, 1), activation='relu'))\n",
    "model_faces.add(Dropout(0.5))\n",
    "model_faces.add(Convolution2D(2622, (1, 1)))\n",
    "model_faces.add(Flatten())\n",
    "model_faces.add(Dense(1, activation='sigmoid'))\n",
    "\n",
    "model_faces.summary()"
   ]
  },
  {
   "cell_type": "code",
   "execution_count": 15,
   "id": "be45f18e",
   "metadata": {},
   "outputs": [],
   "source": [
    "result = open('X-200', 'rb')\n",
    "X = np.load(result, allow_pickle=True)\n",
    "\n",
    "result2 = open('Y-200', 'rb')\n",
    "y = np.load(result2, allow_pickle=True)"
   ]
  },
  {
   "cell_type": "code",
   "execution_count": 16,
   "id": "225dd159",
   "metadata": {},
   "outputs": [
    {
     "name": "stdout",
     "output_type": "stream",
     "text": [
      "(3091, 82, 82, 64) float32\n",
      "(3091,) int64\n"
     ]
    }
   ],
   "source": [
    "print(X.shape, X.dtype)\n",
    "print(y.shape, y.dtype)"
   ]
  },
  {
   "cell_type": "code",
   "execution_count": 17,
   "id": "5a9615e6",
   "metadata": {},
   "outputs": [],
   "source": [
    "# 80:20 for split size\n",
    "size = int(len(X) * 0.8)\n",
    "\n",
    "x_train, x_test = X[:size], X[size:]\n",
    "y_train, y_test = y[:size], y[size:]"
   ]
  },
  {
   "cell_type": "code",
   "execution_count": 18,
   "id": "62bc232f",
   "metadata": {},
   "outputs": [
    {
     "data": {
      "text/plain": [
       "1432"
      ]
     },
     "execution_count": 18,
     "metadata": {},
     "output_type": "execute_result"
    }
   ],
   "source": [
    "# To clear memory\n",
    "import gc\n",
    "#del model_frames\n",
    "del X\n",
    "del y\n",
    "gc.collect()"
   ]
  },
  {
   "cell_type": "code",
   "execution_count": 19,
   "id": "ffe2787b",
   "metadata": {},
   "outputs": [],
   "source": [
    "model_faces.compile(\n",
    "    optimizer=SGD(learning_rate=0.01, momentum=0.9),\n",
    "    loss=tf.keras.losses.BinaryCrossentropy(),\n",
    "    metrics=['accuracy']\n",
    ")"
   ]
  },
  {
   "cell_type": "code",
   "execution_count": null,
   "id": "ec3c66e3",
   "metadata": {},
   "outputs": [
    {
     "name": "stdout",
     "output_type": "stream",
     "text": [
      "Epoch 1/10\n",
      " 3/20 [===>..........................] - ETA: 9:22 - loss: 0.6305 - accuracy: 0.7161"
     ]
    }
   ],
   "source": [
    "history = model_faces.fit(\n",
    "    x_train,\n",
    "    y_train,\n",
    "    batch_size=128,\n",
    "    epochs=10,\n",
    "    use_multiprocessing=True,\n",
    "    workers=num_cpu\n",
    ")"
   ]
  },
  {
   "cell_type": "code",
   "execution_count": 11,
   "id": "68098336",
   "metadata": {},
   "outputs": [],
   "source": [
    "# Export model into a file\n",
    "model_faces.save('model.h5')\n",
    "#del model"
   ]
  },
  {
   "cell_type": "code",
   "execution_count": null,
   "id": "b07d2da2",
   "metadata": {},
   "outputs": [],
   "source": []
  }
 ],
 "metadata": {
  "environment": {
   "name": "common-cu110.m69",
   "type": "gcloud",
   "uri": "gcr.io/deeplearning-platform-release/base-cu110:m69"
  },
  "kernelspec": {
   "display_name": "Python [conda env:root] *",
   "language": "python",
   "name": "conda-root-py"
  },
  "language_info": {
   "codemirror_mode": {
    "name": "ipython",
    "version": 3
   },
   "file_extension": ".py",
   "mimetype": "text/x-python",
   "name": "python",
   "nbconvert_exporter": "python",
   "pygments_lexer": "ipython3",
   "version": "3.7.10"
  }
 },
 "nbformat": 4,
 "nbformat_minor": 5
}
